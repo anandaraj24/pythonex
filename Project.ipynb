{
 "cells": [
  {
   "cell_type": "code",
   "execution_count": 1,
   "metadata": {},
   "outputs": [],
   "source": [
    "#Question 1:\n",
    "def print_N_nos(x):\n",
    "    for i in range(1,x+1):\n",
    "        if i%3==0:\n",
    "            print(\"Fizz\")\n",
    "        else:\n",
    "            print(i)\n",
    "            "
   ]
  },
  {
   "cell_type": "code",
   "execution_count": 2,
   "metadata": {
    "scrolled": false
   },
   "outputs": [
    {
     "name": "stdout",
     "output_type": "stream",
     "text": [
      "1 - 4\n",
      "8 - 2\n",
      "0 - 1\n",
      "1 - 4\n",
      "2 - 2\n",
      "5 - 3\n",
      "6 - 1\n",
      "5 - 3\n",
      "12 - 1\n",
      "4 - 2\n",
      "1 - 4\n",
      "9 - 1\n",
      "7 - 1\n",
      "4 - 2\n",
      "8 - 2\n",
      "5 - 3\n",
      "3 - 1\n",
      "2 - 2\n",
      "1 - 4\n"
     ]
    }
   ],
   "source": [
    "#Question 2:\n",
    "list1=[1,2,3,5,8,4,7,9,1,4,12,5,6,5,2,1,0,8,1]\n",
    "i=len(list1)-1\n",
    "while i>=0:\n",
    "        result=list1[i]\n",
    "        print(result,\"-\",list1.count(result))\n",
    "        i-=1\n",
    "        "
   ]
  },
  {
   "cell_type": "code",
   "execution_count": 3,
   "metadata": {},
   "outputs": [
    {
     "data": {
      "text/plain": [
       "Counter({1: 4, 2: 2, 3: 1, 5: 3, 8: 2, 4: 2, 7: 1, 9: 1, 12: 1, 6: 1, 0: 1})"
      ]
     },
     "execution_count": 3,
     "metadata": {},
     "output_type": "execute_result"
    }
   ],
   "source": [
    "#Question 2 (Alternate method):\n",
    "from collections import Counter\n",
    "Counter(list1)\n"
   ]
  },
  {
   "cell_type": "code",
   "execution_count": 4,
   "metadata": {
    "scrolled": true
   },
   "outputs": [
    {
     "data": {
      "text/plain": [
       "275"
      ]
     },
     "execution_count": 4,
     "metadata": {},
     "output_type": "execute_result"
    }
   ],
   "source": [
    "#Question 3:\n",
    "dict1={\"Rick\":85,\"Amit\":42,\"George\":53,\"Tanya\":60,\"Linda\":35}\n",
    "sum(dict1.values())"
   ]
  },
  {
   "cell_type": "code",
   "execution_count": 27,
   "metadata": {},
   "outputs": [],
   "source": [
    "#Question 4:\n",
    "score=[1,2,2,3,2,0,2,3,4,0,1,1,2,6,3,2,2,6]\n",
    "def Stats(overs):\n",
    "    print(\"The total runs Score in {} overs is : {}\".format(int(len(overs)/6),sum(overs)))\n",
    "    for i in score:\n",
    "        print(\"The total score in 1st over is:\",sum(score[0:6]))\n",
    "        print(\"The total score in 2nd over is:\",sum(score[6:12]))\n",
    "        print(\"The total score in 3rd over is:\",sum(score[12:]))\n",
    "        #Assuming batsman 1 plays 1st over and rotates the strike to batsman 2 who plays 2nd over and again batsman 1 plays 3rd over\n",
    "        print(\"Batsman 1 scored {} runs\".format(sum(score[0:6])+sum(score[12:])))\n",
    "        print(\"Batsman 2 scored {} runs\".format(sum(score[6:12])))\n",
    "        break"
   ]
  },
  {
   "cell_type": "code",
   "execution_count": 28,
   "metadata": {},
   "outputs": [
    {
     "name": "stdout",
     "output_type": "stream",
     "text": [
      "The total runs Score in 3 overs is : 42\n",
      "The total score in 1st over is: 10\n",
      "The total score in 2nd over is: 11\n",
      "The total score in 3rd over is: 21\n",
      "Batsman 1 scored 31 runs\n",
      "Batsman 2 scored 11 runs\n"
     ]
    }
   ],
   "source": [
    "Stats(score)"
   ]
  },
  {
   "cell_type": "code",
   "execution_count": null,
   "metadata": {},
   "outputs": [],
   "source": []
  }
 ],
 "metadata": {
  "kernelspec": {
   "display_name": "Python 3",
   "language": "python",
   "name": "python3"
  },
  "language_info": {
   "codemirror_mode": {
    "name": "ipython",
    "version": 3
   },
   "file_extension": ".py",
   "mimetype": "text/x-python",
   "name": "python",
   "nbconvert_exporter": "python",
   "pygments_lexer": "ipython3",
   "version": "3.7.3"
  }
 },
 "nbformat": 4,
 "nbformat_minor": 2
}
